{
 "cells": [
  {
   "cell_type": "raw",
   "id": "75862e97-292b-411b-b172-9bb8850edfd2",
   "metadata": {},
   "source": [
    "!pip install langchain_experimental "
   ]
  },
  {
   "cell_type": "code",
   "execution_count": 4,
   "id": "2554b18b-50e1-49f1-8cb0-c73fa70becd6",
   "metadata": {},
   "outputs": [],
   "source": [
    "import os\n",
    "import pandas as pd\n",
    "import numpy as np\n",
    "from langchain.agents.agent_types import AgentType\n",
    "from langchain_experimental.agents.agent_toolkits import create_pandas_dataframe_agent\n",
    "from langchain_groq import ChatGroq"
   ]
  },
  {
   "cell_type": "code",
   "execution_count": 5,
   "id": "4950986f-9da3-4407-8774-fd92592f1207",
   "metadata": {},
   "outputs": [],
   "source": [
    "os.environ[\"GROQ_API_KEY\"] = \"gsk************************************\""
   ]
  },
  {
   "cell_type": "code",
   "execution_count": 6,
   "id": "fad7818e-f01e-4f37-9035-66646e7a4f42",
   "metadata": {},
   "outputs": [],
   "source": [
    "def setup_llama_agent(df, temperature=0, model=\"llama-3.3-70b-versatile\"):\n",
    "    llm = ChatGroq(\n",
    "        model_name=model,\n",
    "        temperature=temperature\n",
    "    )\n",
    "\n",
    "    agent = create_pandas_dataframe_agent(\n",
    "        llm=llm,\n",
    "        df=df,\n",
    "        verbose=True,\n",
    "        agent_type=AgentType.ZERO_SHOT_REACT_DESCRIPTION,\n",
    "        allow_dangerous_code=True\n",
    "    )\n",
    "    \n",
    "    return agent"
   ]
  },
  {
   "cell_type": "code",
   "execution_count": 7,
   "id": "34778ec2-8563-49c4-b61c-0c16ea69b00e",
   "metadata": {},
   "outputs": [],
   "source": [
    "import seaborn as sns\n",
    "\n",
    "def load_and_explore_data():\n",
    "    print(\"Loading Titanic Dataset from Seaborn...\")\n",
    "    df = sns.load_dataset(\"titanic\")\n",
    "    print(f\"Dataset shape: {df.shape}\")\n",
    "    print(f\"Columns: {list(df.columns)}\")\n",
    "    return d"
   ]
  },
  {
   "cell_type": "code",
   "execution_count": 8,
   "id": "89aee19f-b178-419c-b68c-c034ff33ebba",
   "metadata": {},
   "outputs": [],
   "source": [
    "def basic_analysis_demo(agent):\n",
    "    print(\"\\nBASIC ANALYSIS DEMO\")\n",
    "    print(\"=\" * 50)\n",
    "\n",
    "    queries = [\n",
    "        \"How many rows and columns are in the dataset?\",\n",
    "        \"What's the survival rate(% of people who survived)?\",\n",
    "        \"How many people have more than 3 siblings?\",\n",
    "        \"What's the square root of the avergae age?\",\n",
    "        \"Show me the distribution of passenger classes.\"\n",
    "    ]\n",
    "\n",
    "    for query in queries:\n",
    "        print(f\"\\nQuery: {query}\")\n",
    "        try:\n",
    "            result = agent.invoke(query)\n",
    "            print(f\"Result: {result['output']}\")\n",
    "        except Exception as e:\n",
    "            print(f\"Error: {e}\")"
   ]
  },
  {
   "cell_type": "code",
   "execution_count": 9,
   "id": "624f9374-5662-4282-ac0c-a843e2f6f54d",
   "metadata": {},
   "outputs": [],
   "source": [
    "def advanced_analysis_demo(agent):\n",
    "    print(\"\\nADVANCED ANALYSIS DEMO\")\n",
    "    print(\"=\" * 50)\n",
    "\n",
    "    advanced_queries = [\n",
    "        \"What's the correlation between age and fare?\",\n",
    "        \"Create a survival analysis by gender and class\",\n",
    "        \"What's the median age for each passenger class?\",\n",
    "        \"Find passengers with the highest fares and their details\",\n",
    "        \"Calculate the survival rate for different age groups(0-18, 18-65, 65+)\"\n",
    "    ]\n",
    "\n",
    "    for query in advanced_queries:\n",
    "        print(f\"\\nQuery: {query}\")\n",
    "        try:\n",
    "            result = agent.invoke(query)\n",
    "            print(f\"Result: {result['output']}\")\n",
    "        except Exception as e:\n",
    "            print(f\"Error: {e}\")"
   ]
  },
  {
   "cell_type": "code",
   "execution_count": 10,
   "id": "6f58b2bb-2e1e-4e65-88ed-1e051d60fc8c",
   "metadata": {},
   "outputs": [],
   "source": [
    "def multi_dataframe_demo():\n",
    "    print(\"\\nMULTI-DATAFRAME DEMO\")\n",
    "    print(\"=\" * 50)\n",
    "\n",
    "    df = sns.load_dataset(\"titanic\")\n",
    "\n",
    "    df_filled = df.copy()\n",
    "    df_filled[\"Age\"] = df_filled[\"Age\"].fillna(df_filled[\"Age\"].mean())\n",
    "\n",
    "    agent = setup_llama_agent(df, df_filled)\n",
    "\n",
    "    queries = [\n",
    "        \"How many rows int age column are different between the two datasets?\",\n",
    "        \"Compare the average age in both values\",\n",
    "        \"What percentage of age values were missing in the original dataset?\",\n",
    "        \"Show summary statistics for age in both datasets\"\n",
    "    ]\n",
    "    for query in advanced_queries:\n",
    "        print(f\"\\nQuery: {query}\")\n",
    "        try:\n",
    "            result = agent.invoke(query)\n",
    "            print(f\"Result: {result['output']}\")\n",
    "        except Exception as e:\n",
    "            print(f\"Error: {e}\")"
   ]
  },
  {
   "cell_type": "code",
   "execution_count": 11,
   "id": "fea1d53f-bc94-492c-9e21-58f26a0939b0",
   "metadata": {},
   "outputs": [
    {
     "name": "stderr",
     "output_type": "stream",
     "text": [
      "<>:15: SyntaxWarning: invalid escape sequence '\\Q'\n",
      "<>:15: SyntaxWarning: invalid escape sequence '\\Q'\n",
      "C:\\Users\\Lenovo\\AppData\\Local\\Temp\\ipykernel_1944\\2504961533.py:15: SyntaxWarning: invalid escape sequence '\\Q'\n",
      "  print(f\"\\Query: {query[:100]}...\")\n"
     ]
    }
   ],
   "source": [
    "def custom_analysis_demo(agent):\n",
    "    print(\"\\nCUSTOM ANALYSIS DEMO\")\n",
    "    print(\"=\" * 50)\n",
    "\n",
    "    custom_queries = [\n",
    "        \"Create a risk score for each passenger based on: Age(higher age = higher risk), Gender (male = higher risk), Class (3rd class = higher risk), Family size (alone or large family = higher risk). Then show the top 10 highest risk passengers who survived\",\n",
    "       \n",
    "        \"Analyze the 'deck' information from the cabin data: Extract deck letter from cabin numbers, Show survival rates by deck, Which deck had the highest survival rate?\",\n",
    "       \n",
    "        \"Find interesting patterns: Did people with similar names (same surname) tend to survive together? What's the relationship between ticket price and survival? Were there any age groups that had 100% survival rate?\"\n",
    "    ]\n",
    "\n",
    "    for i, query in enumerate(custome_queries, 1):\n",
    "        print(f\"\\nCustom Analysis {i}:\")\n",
    "        print(f\"\\Query: {query[:100]}...\")\n",
    "        try:\n",
    "            result = agent.invoke(query)\n",
    "            print(f\"Result: {result['output']}\")\n",
    "        except Exception as e:\n",
    "            print(f\"Error: {e}\")"
   ]
  },
  {
   "cell_type": "code",
   "execution_count": 12,
   "id": "b16c7bff-3c80-480c-b98e-6202e657dd0a",
   "metadata": {},
   "outputs": [
    {
     "name": "stdout",
     "output_type": "stream",
     "text": [
      "Advanced Pandas Agent with Llama Tutorial\n",
      "============================================================\n",
      "Loading Titanic Dataset from Seaborn...\n",
      "Dataset shape: (891, 15)\n",
      "Columns: ['survived', 'pclass', 'sex', 'age', 'sibsp', 'parch', 'fare', 'embarked', 'class', 'who', 'adult_male', 'deck', 'embark_town', 'alive', 'alone']\n",
      "Error: name 'd' is not defined\n",
      "Make sure you have installed all required packages and set your API key.\n"
     ]
    }
   ],
   "source": [
    "def main():\n",
    "    print(\"Advanced Pandas Agent with Llama Tutorial\")\n",
    "    print(\"=\" * 60)\n",
    "\n",
    "    if not os.getenv(\"GROQ_API_KEY\"):\n",
    "        print(\"Warning: GROQ_API_KEY not set!\")\n",
    "        print(\"Please set your Llama API key as an environment variable.\")\n",
    "        return\n",
    "\n",
    "    try:\n",
    "        df = load_and_explore_data()\n",
    "        print(\"\\nSetting up Llama Agent...\")\n",
    "        agent = setup_llama_agent(df)\n",
    "\n",
    "        basic_analysis_demo(agent)\n",
    "        advanced_analysis_demo(agent)\n",
    "        multi_dataframe_demo(agent)\n",
    "        custom_analysis_demo(agent)\n",
    "\n",
    "        print(\"\\nTutorial completed successfully!\")\n",
    "    except Exception as e:\n",
    "        print(f\"Error: {e}\")\n",
    "        print(\"Make sure you have installed all required packages and set your API key.\")\n",
    "\n",
    "if __name__ == \"__main__\":\n",
    "    main()"
   ]
  },
  {
   "cell_type": "code",
   "execution_count": 17,
   "id": "55beea46-b533-4baf-b86e-2c73e14bdc83",
   "metadata": {},
   "outputs": [
    {
     "name": "stdout",
     "output_type": "stream",
     "text": [
      "\n",
      "\n",
      "\u001b[1m> Entering new AgentExecutor chain...\u001b[0m\n",
      "\u001b[32;1m\u001b[1;3mThought: To find the median age for each passenger class, we need to use the pandas dataframe's groupby function to group the data by 'class' and then calculate the median age for each group.\n",
      "\n",
      "Action: python_repl_ast\n",
      "Action Input:\n",
      "```python\n",
      "import pandas as pd\n",
      "print(df.groupby('class')['age'].median())\n",
      "```\u001b[0m\u001b[36;1m\u001b[1;3mclass\n",
      "First     37.0\n",
      "Second    29.0\n",
      "Third     24.0\n",
      "Name: age, dtype: float64\n",
      "\u001b[0m"
     ]
    },
    {
     "name": "stderr",
     "output_type": "stream",
     "text": [
      "<string>:1: FutureWarning: The default of observed=False is deprecated and will be changed to True in a future version of pandas. Pass observed=False to retain current behavior or observed=True to adopt the future default and silence this warning.\n"
     ]
    },
    {
     "name": "stdout",
     "output_type": "stream",
     "text": [
      "\u001b[32;1m\u001b[1;3mI now know the final answer\n",
      "\n",
      "Final Answer: The median age for each passenger class is: \n",
      "- First class: 37.0\n",
      "- Second class: 29.0\n",
      "- Third class: 24.0\u001b[0m\n",
      "\n",
      "\u001b[1m> Finished chain.\u001b[0m\n",
      "\n",
      "\n",
      "\u001b[1m> Entering new AgentExecutor chain...\u001b[0m\n"
     ]
    },
    {
     "data": {
      "image/png": "[encoded data removed]",
      "text/plain": [
       "<Figure size 640x480 with 1 Axes>"
      ]
     },
     "metadata": {},
     "output_type": "display_data"
    },
    {
     "name": "stdout",
     "output_type": "stream",
     "text": [
      "\u001b[32;1m\u001b[1;3mThought: To plot a histogram of passenger ages, we need to use a library that can create visualizations, such as matplotlib. We will use the `age` column from the dataframe `df` to create the histogram.\n",
      "\n",
      "Action: python_repl_ast\n",
      "Action Input:\n",
      "```python\n",
      "import matplotlib.pyplot as plt\n",
      "df['age'].plot.hist()\n",
      "plt.show()\n",
      "```\n",
      "\u001b[0m\u001b[36;1m\u001b[1;3m\u001b[0m\u001b[32;1m\u001b[1;3mObservation: A histogram of passenger ages is displayed, showing the distribution of ages among the passengers.\n",
      "\n",
      "Thought: The histogram provides a visual representation of the age distribution, allowing us to see the range of ages, the frequency of each age, and any patterns or outliers in the data.\n",
      "\n",
      "Action: python_repl_ast\n",
      "Action Input:\n",
      "```python\n",
      "print(df['age'].describe())\n",
      "```\n",
      "\u001b[0m\u001b[36;1m\u001b[1;3mcount    714.000000\n",
      "mean      29.699118\n",
      "std       14.526497\n",
      "min        0.420000\n",
      "25%       20.125000\n",
      "50%       28.000000\n",
      "75%       38.000000\n",
      "max       80.000000\n",
      "Name: age, dtype: float64\n",
      "\u001b[0m\u001b[32;1m\u001b[1;3mThought: The histogram and the summary statistics of the 'age' column provide a comprehensive understanding of the age distribution among the passengers. The mean age is approximately 29.7 years, with a standard deviation of 14.53 years. The age range is from 0.42 years to 80 years, with the 25th percentile at 20.13 years, the 50th percentile (median) at 28 years, and the 75th percentile at 38 years.\n",
      "\n",
      "Thought: I now know the final answer\n",
      "\n",
      "Final Answer: The histogram of passenger ages shows a distribution with a mean age of approximately 29.7 years and a standard deviation of 14.53 years, ranging from 0.42 years to 80 years.\u001b[0m\n",
      "\n",
      "\u001b[1m> Finished chain.\u001b[0m\n"
     ]
    },
    {
     "data": {
      "text/plain": [
       "'The histogram of passenger ages shows a distribution with a mean age of approximately 29.7 years and a standard deviation of 14.53 years, ranging from 0.42 years to 80 years.'"
      ]
     },
     "execution_count": 17,
     "metadata": {},
     "output_type": "execute_result"
    }
   ],
   "source": [
    " df = sns.load_dataset(\"titanic\")\n",
    "agent = setup_llama_agent(df)\n",
    "\n",
    "\n",
    "agent.invoke(\"What's the median age for each passenger class?\")\n",
    "# agent.invoke(\"Create a detailed survival analysis by port of embarkation\")\n",
    "# agent.invoke(\"Find any interesting anomalies or outliers in the data\")\n",
    "agent.run(\"Plot a histogram of passenger ages and show it.\")"
   ]
  },
  {
   "cell_type": "code",
   "execution_count": null,
   "id": "8f982c67-0cbd-459e-b52d-7892807c430a",
   "metadata": {},
   "outputs": [],
   "source": []
  }
 ],
 "metadata": {
  "kernelspec": {
   "display_name": "Python 3 (ipykernel)",
   "language": "python",
   "name": "python3"
  },
  "language_info": {
   "codemirror_mode": {
    "name": "ipython",
    "version": 3
   },
   "file_extension": ".py",
   "mimetype": "text/x-python",
   "name": "python",
   "nbconvert_exporter": "python",
   "pygments_lexer": "ipython3",
   "version": "3.12.7"
  }
 },
 "nbformat": 4,
 "nbformat_minor": 5
}
